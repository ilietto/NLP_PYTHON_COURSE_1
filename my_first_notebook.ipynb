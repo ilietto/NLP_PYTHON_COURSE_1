{
  "nbformat": 4,
  "nbformat_minor": 0,
  "metadata": {
    "colab": {
      "name": "my_first_notebook.ipynb",
      "provenance": [],
      "collapsed_sections": [],
      "include_colab_link": true
    },
    "kernelspec": {
      "name": "python3",
      "display_name": "Python 3"
    }
  },
  "cells": [
    {
      "cell_type": "markdown",
      "metadata": {
        "id": "view-in-github",
        "colab_type": "text"
      },
      "source": [
        "<a href=\"https://colab.research.google.com/github/ilietto/NLP_PYTHON_COURSE_1/blob/master/my_first_notebook.ipynb\" target=\"_parent\"><img src=\"https://colab.research.google.com/assets/colab-badge.svg\" alt=\"Open In Colab\"/></a>"
      ]
    },
    {
      "cell_type": "code",
      "metadata": {
        "id": "LGbrsu1fD39a",
        "colab_type": "code",
        "outputId": "38bd92aa-b9da-47a6-dbf7-8142cc453dab",
        "colab": {
          "base_uri": "https://localhost:8080/",
          "height": 50
        }
      },
      "source": [
        "my_string = \"sono grande!!\"\n",
        "print(my_string)\n",
        "print(type(my_string))\n"
      ],
      "execution_count": 0,
      "outputs": [
        {
          "output_type": "stream",
          "text": [
            "sono grande!!\n",
            "<class 'str'>\n"
          ],
          "name": "stdout"
        }
      ]
    },
    {
      "cell_type": "code",
      "metadata": {
        "id": "9FoBhd57IL5j",
        "colab_type": "code",
        "outputId": "6756c2b9-b926-45ae-d466-1d9f9384a204",
        "colab": {
          "base_uri": "https://localhost:8080/",
          "height": 34
        }
      },
      "source": [
        "my_string[0]\n"
      ],
      "execution_count": 0,
      "outputs": [
        {
          "output_type": "execute_result",
          "data": {
            "text/plain": [
              "'s'"
            ]
          },
          "metadata": {
            "tags": []
          },
          "execution_count": 3
        }
      ]
    },
    {
      "cell_type": "code",
      "metadata": {
        "id": "7Uepyg4SIRxz",
        "colab_type": "code",
        "outputId": "74df690f-9ade-4b37-a820-0acded2f1cfc",
        "colab": {
          "base_uri": "https://localhost:8080/",
          "height": 34
        }
      },
      "source": [
        "my_string[-1]"
      ],
      "execution_count": 0,
      "outputs": [
        {
          "output_type": "execute_result",
          "data": {
            "text/plain": [
              "'!'"
            ]
          },
          "metadata": {
            "tags": []
          },
          "execution_count": 4
        }
      ]
    },
    {
      "cell_type": "code",
      "metadata": {
        "id": "KyT-lZHNIQKJ",
        "colab_type": "code",
        "colab": {}
      },
      "source": [
        "my_string = \"Nella riunione di Martedì scorso con TIM, è stato approvato quasi tutto del documento di requisito presentato. Ci sono delle attività da fare per migliorare e ampliare il contenuto. Ne parliamo insieme lunedì prossimo che sarò a NAPOLI. Fondamentalmente, TIM si è mostrato entusiasta dell’approccio e dell’impostazione della GUI, come strumento di analisi approfondita dei processi gestiti da ProngHorn.\""
      ],
      "execution_count": 0,
      "outputs": []
    },
    {
      "cell_type": "code",
      "metadata": {
        "id": "28F1ERRDJdEH",
        "colab_type": "code",
        "colab": {}
      },
      "source": [
        "sentence = my_string.split(\".\")"
      ],
      "execution_count": 0,
      "outputs": []
    },
    {
      "cell_type": "code",
      "metadata": {
        "id": "V7t3QNd2JuSi",
        "colab_type": "code",
        "outputId": "a0553661-73d9-4de2-9cc2-179884f18a93",
        "colab": {
          "base_uri": "https://localhost:8080/",
          "height": 34
        }
      },
      "source": [
        "type(word_list)"
      ],
      "execution_count": 15,
      "outputs": [
        {
          "output_type": "execute_result",
          "data": {
            "text/plain": [
              "list"
            ]
          },
          "metadata": {
            "tags": []
          },
          "execution_count": 15
        }
      ]
    },
    {
      "cell_type": "code",
      "metadata": {
        "id": "L24awRMfJyBI",
        "colab_type": "code",
        "outputId": "f1c7e67c-3932-49ea-8eb3-b677b3319f36",
        "colab": {
          "base_uri": "https://localhost:8080/",
          "height": 101
        }
      },
      "source": [
        "word_list"
      ],
      "execution_count": 16,
      "outputs": [
        {
          "output_type": "execute_result",
          "data": {
            "text/plain": [
              "['Nella riunione di Martedì scorso con TIM, è stato approvato quasi tutto del documento di requisito presentato',\n",
              " ' Ci sono delle attività da fare per migliorare e ampliare il contenuto',\n",
              " ' Ne parliamo insieme lunedì prossimo che sarò a NAPOLI',\n",
              " ' Fondamentalmente, TIM si è mostrato entusiasta dell’approccio e dell’impostazione della GUI, come strumento di analisi approfondita dei processi gestiti da ProngHorn',\n",
              " '']"
            ]
          },
          "metadata": {
            "tags": []
          },
          "execution_count": 16
        }
      ]
    }
  ]
}